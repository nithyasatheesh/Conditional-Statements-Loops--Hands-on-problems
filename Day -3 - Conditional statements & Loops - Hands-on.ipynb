{
 "cells": [
  {
   "cell_type": "markdown",
   "id": "66e79b98",
   "metadata": {},
   "source": [
    "### Hands-on-Problems"
   ]
  },
  {
   "cell_type": "code",
   "execution_count": null,
   "id": "02d440cc",
   "metadata": {},
   "outputs": [],
   "source": [
    "# Write a program to check whether a person is eligible for voting or not. (accept age from user)"
   ]
  },
  {
   "cell_type": "code",
   "execution_count": null,
   "id": "fe8321c3",
   "metadata": {},
   "outputs": [],
   "source": [
    "#Write a program to check whether a number is divisible by 7 or not."
   ]
  },
  {
   "cell_type": "code",
   "execution_count": null,
   "id": "7850ee72",
   "metadata": {},
   "outputs": [],
   "source": [
    "#Write a program to check whether the last digit of a number( entered by user ) is divisible by 3 or not."
   ]
  },
  {
   "cell_type": "code",
   "execution_count": null,
   "id": "f35603b5",
   "metadata": {},
   "outputs": [],
   "source": [
    "#Accept any city from the user and display monument of that city. City Monument Delhi Red Fort Agra Taj Mahal Jaipur Jal Mahal"
   ]
  },
  {
   "cell_type": "code",
   "execution_count": null,
   "id": "943dc893",
   "metadata": {},
   "outputs": [],
   "source": [
    "# # check whether the given number is of one digited or two digited or three digited or more than three digited."
   ]
  },
  {
   "cell_type": "code",
   "execution_count": null,
   "id": "229ca720",
   "metadata": {},
   "outputs": [],
   "source": [
    "# Find maximum number out of given three numbers"
   ]
  },
  {
   "cell_type": "raw",
   "id": "c72fc98b",
   "metadata": {},
   "source": [
    "Write a program that prompts the user to enter their age and prints the corresponding age group. The program should use the following age groups:\n",
    "0-12: Child\n",
    "13-19: Teenager\n",
    "20-59: Adult\n",
    "60 and above: Senior Citizen"
   ]
  },
  {
   "cell_type": "code",
   "execution_count": null,
   "id": "d2441968",
   "metadata": {},
   "outputs": [],
   "source": []
  },
  {
   "cell_type": "raw",
   "id": "320ff2fb",
   "metadata": {},
   "source": [
    "Write a program that prompts the user to enter their weight (in kilograms) and height (in meters). The program should calculate the Body Mass Index (BMI) using the formula:\n",
    "\n",
    "BMI = weight / (height * height).\n",
    "The program should then classify the BMI into one of the following categories:\n",
    "Underweight: BMI less than 18.5\n",
    "Normal weight: BMI between 18.5 and 24.9\n",
    "Overweight: BMI between 25 and 29.9\n",
    "Obesity: BMI 30 or greater"
   ]
  },
  {
   "cell_type": "code",
   "execution_count": null,
   "id": "236a033a",
   "metadata": {},
   "outputs": [],
   "source": []
  },
  {
   "cell_type": "code",
   "execution_count": null,
   "id": "6713b44f",
   "metadata": {},
   "outputs": [],
   "source": []
  },
  {
   "cell_type": "markdown",
   "id": "6c508934",
   "metadata": {},
   "source": [
    "#### Hands -on- Problems - Loops"
   ]
  },
  {
   "cell_type": "raw",
   "id": "e9d5261f",
   "metadata": {},
   "source": [
    "Write a program that prompts the user to input a number and reverse its digits. For example, the reverse of 12345 is 54321; reverse of 5600 is 65."
   ]
  },
  {
   "cell_type": "code",
   "execution_count": null,
   "id": "39833293",
   "metadata": {},
   "outputs": [],
   "source": []
  },
  {
   "cell_type": "raw",
   "id": "eb6d0d99",
   "metadata": {},
   "source": [
    "An Armstrong number of three digits is an integer in which the sum of the cubes of its digits is equal to the number itself. For example, 371 is an Armstrong number since 33 + 73 + 13 = 371. Write a program to check whether a number is an Armstrong number or not."
   ]
  },
  {
   "cell_type": "code",
   "execution_count": null,
   "id": "7a4384fe",
   "metadata": {},
   "outputs": [],
   "source": []
  },
  {
   "cell_type": "raw",
   "id": "3e1fa067",
   "metadata": {},
   "source": [
    "Write programs to print following patterns :\n",
    "\n",
    "1.\n",
    "**********\n",
    "**********\n",
    "**********\n",
    "**********\n",
    "        \n",
    "2.\n",
    "*\n",
    "**\n",
    "***\n",
    "****\n",
    "*****"
   ]
  },
  {
   "cell_type": "code",
   "execution_count": null,
   "id": "1ca3e06d",
   "metadata": {},
   "outputs": [],
   "source": []
  },
  {
   "cell_type": "raw",
   "id": "2498f4b5",
   "metadata": {},
   "source": [
    "Write a program that display following output:\n",
    "\n",
    "SHIFT\n",
    "HIFTS\n",
    "IFTSH\n",
    "FTSHI\n",
    "TSHIF\n",
    "SHIFT"
   ]
  },
  {
   "cell_type": "code",
   "execution_count": null,
   "id": "c52529d7",
   "metadata": {},
   "outputs": [],
   "source": []
  },
  {
   "cell_type": "raw",
   "id": "096ba4ea",
   "metadata": {},
   "source": [
    "Write a program in python that accepts a string to setup a passwords. Your entered password must meet the following requirements:\n",
    "* The password must be at least eight characters long.\n",
    "* It must contain at least one uppercase letter.\n",
    "* It must contain at least one lowercase letter.\n",
    "* It must contain at least one numeric digit."
   ]
  },
  {
   "cell_type": "code",
   "execution_count": null,
   "id": "3c10fcd9",
   "metadata": {},
   "outputs": [],
   "source": []
  }
 ],
 "metadata": {
  "kernelspec": {
   "display_name": "Python 3 (ipykernel)",
   "language": "python",
   "name": "python3"
  },
  "language_info": {
   "codemirror_mode": {
    "name": "ipython",
    "version": 3
   },
   "file_extension": ".py",
   "mimetype": "text/x-python",
   "name": "python",
   "nbconvert_exporter": "python",
   "pygments_lexer": "ipython3",
   "version": "3.9.13"
  }
 },
 "nbformat": 4,
 "nbformat_minor": 5
}
